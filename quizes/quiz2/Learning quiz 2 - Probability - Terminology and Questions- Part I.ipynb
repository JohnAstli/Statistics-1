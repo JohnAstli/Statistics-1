{
 "cells": [
  {
   "cell_type": "markdown",
   "metadata": {},
   "source": [
    "# Learning Goals\n",
    "\n",
    "1. Know the definitions of sample space, event and probability function.\n",
    "\n",
    "2. Be able to organize a scenario with randomness into an experiment and sample space.\n",
    "\n",
    "3. Be able to make basic computations using a probability function."
   ]
  },
  {
   "cell_type": "markdown",
   "metadata": {},
   "source": [
    "## Probability terminology list \n",
    "\n",
    "* Experiment: a repeatable procedure with well-deﬁned possible outcomes. \n",
    "\n",
    "* Sample space: the set of all possible outcomes. We usually denote the sample space by $\\Omega$, sometimes by $S$. \n",
    "\n",
    "* Event: a subset of the sample space. \n",
    "\n",
    "* Probability function: a function giving the probability for each outcome. \n",
    "\n",
    "* Probability density: a continuous distribution of probabilities. \n",
    "\n",
    "* Random variable: a random numerical outcome. \n"
   ]
  },
  {
   "cell_type": "code",
   "execution_count": 1,
   "metadata": {
    "scrolled": true
   },
   "outputs": [
    {
     "data": {
      "text/plain": [
       "               _                           \n",
       "platform       x86_64-w64-mingw32          \n",
       "arch           x86_64                      \n",
       "os             mingw32                     \n",
       "system         x86_64, mingw32             \n",
       "status                                     \n",
       "major          3                           \n",
       "minor          6.1                         \n",
       "year           2019                        \n",
       "month          07                          \n",
       "day            05                          \n",
       "svn rev        76782                       \n",
       "language       R                           \n",
       "version.string R version 3.6.1 (2019-07-05)\n",
       "nickname       Action of the Toes          "
      ]
     },
     "metadata": {},
     "output_type": "display_data"
    }
   ],
   "source": [
    "R.version"
   ]
  },
  {
   "cell_type": "code",
   "execution_count": 2,
   "metadata": {},
   "outputs": [
    {
     "name": "stdout",
     "output_type": "stream",
     "text": [
      "package 'cluster' successfully unpacked and MD5 sums checked\n",
      "\n",
      "The downloaded binary packages are in\n",
      "\tC:\\Users\\xrist\\AppData\\Local\\Temp\\Rtmp4KTJ3W\\downloaded_packages\n"
     ]
    }
   ],
   "source": [
    "install.packages(\"cluster\")"
   ]
  },
  {
   "cell_type": "code",
   "execution_count": 3,
   "metadata": {},
   "outputs": [
    {
     "name": "stderr",
     "output_type": "stream",
     "text": [
      "Bioconductor version 3.10 (BiocManager 1.30.10), R 3.6.1 (2019-07-05)\n",
      "Old packages: 'askpass', 'backports', 'BH', 'boot', 'broom', 'callr', 'caret',\n",
      "  'class', 'cli', 'clipr', 'curl', 'data.table', 'DBI', 'dbplyr', 'digest',\n",
      "  'dplyr', 'e1071', 'ellipsis', 'evaluate', 'fansi', 'forcats', 'foreach',\n",
      "  'formatR', 'fs', 'ggplot2', 'glmnet', 'glue', 'gower', 'haven', 'hexbin',\n",
      "  'hms', 'htmltools', 'htmlwidgets', 'httpuv', 'httr', 'ipred', 'IRkernel',\n",
      "  'iterators', 'jsonlite', 'KernSmooth', 'knitr', 'later', 'lattice', 'lava',\n",
      "  'lubridate', 'markdown', 'Matrix', 'mime', 'ModelMetrics', 'modelr', 'nnet',\n",
      "  'numDeriv', 'openssl', 'pillar', 'pkgconfig', 'plyr', 'prettyunits',\n",
      "  'processx', 'prodlim', 'progress', 'promises', 'ps', 'purrr', 'quantmod',\n",
      "  'R6', 'Rcpp', 'readr', 'recipes', 'repr', 'reprex', 'reshape2', 'rlang',\n",
      "  'rmarkdown', 'rstudioapi', 'rvest', 'scales', 'selectr', 'shiny', 'spatial',\n",
      "  'SQUAREM', 'stringi', 'sys', 'tibble', 'tidyr', 'tidyselect', 'tidyverse',\n",
      "  'tinytex', 'TTR', 'uuid', 'whisker', 'withr', 'xfun', 'xml2', 'xts', 'yaml',\n",
      "  'zoo'\n"
     ]
    }
   ],
   "source": [
    "if (!requireNamespace(\"BiocManager\", quietly = TRUE))\n",
    "    install.packages(\"BiocManager\")\n",
    "BiocManager::install()"
   ]
  },
  {
   "cell_type": "code",
   "execution_count": 4,
   "metadata": {},
   "outputs": [
    {
     "name": "stdout",
     "output_type": "stream",
     "text": [
      "package 'MASS' successfully unpacked and MD5 sums checked\n",
      "package 'mgcv' successfully unpacked and MD5 sums checked\n",
      "package 'nlme' successfully unpacked and MD5 sums checked\n",
      "package 'survival' successfully unpacked and MD5 sums checked\n",
      "\n",
      "The downloaded binary packages are in\n",
      "\tC:\\Users\\xrist\\AppData\\Local\\Temp\\Rtmp4KTJ3W\\downloaded_packages\n"
     ]
    }
   ],
   "source": [
    "install.packages(c(\"MASS\", \"mgcv\", \"nlme\",\"survival\"))"
   ]
  },
  {
   "cell_type": "code",
   "execution_count": 5,
   "metadata": {},
   "outputs": [
    {
     "name": "stderr",
     "output_type": "stream",
     "text": [
      "Warning message:\n",
      "\"package 'foreign' is not available (for R version 3.6.1)\""
     ]
    },
    {
     "name": "stdout",
     "output_type": "stream",
     "text": [
      "package 'diagram' successfully unpacked and MD5 sums checked\n",
      "package 'prob' successfully unpacked and MD5 sums checked\n",
      "package 'RcmdrPlugin.IPSUR' successfully unpacked and MD5 sums checked\n",
      "\n",
      "The downloaded binary packages are in\n",
      "\tC:\\Users\\xrist\\AppData\\Local\\Temp\\Rtmp4KTJ3W\\downloaded_packages\n"
     ]
    }
   ],
   "source": [
    "install.packages(c(\"foreign\",\"diagram\",\"prob\",\"RcmdrPlugin.IPSUR\"))"
   ]
  },
  {
   "cell_type": "code",
   "execution_count": 6,
   "metadata": {},
   "outputs": [
    {
     "name": "stderr",
     "output_type": "stream",
     "text": [
      "Warning message:\n",
      "\"package 'diagram' was built under R version 3.6.3\"Loading required package: shape\n",
      "Warning message:\n",
      "\"package 'shape' was built under R version 3.6.3\"Warning message:\n",
      "\"package 'prob' was built under R version 3.6.3\"Loading required package: combinat\n",
      "\n",
      "Attaching package: 'combinat'\n",
      "\n",
      "The following object is masked from 'package:utils':\n",
      "\n",
      "    combn\n",
      "\n",
      "Loading required package: fAsianOptions\n",
      "Warning message:\n",
      "\"package 'fAsianOptions' was built under R version 3.6.3\"Loading required package: timeDate\n",
      "Loading required package: timeSeries\n",
      "Warning message:\n",
      "\"package 'timeSeries' was built under R version 3.6.3\"Loading required package: fBasics\n",
      "Warning message:\n",
      "\"package 'fBasics' was built under R version 3.6.3\"Loading required package: fOptions\n",
      "Warning message:\n",
      "\"package 'fOptions' was built under R version 3.6.3\"\n",
      "Attaching package: 'prob'\n",
      "\n",
      "The following objects are masked from 'package:base':\n",
      "\n",
      "    intersect, setdiff, union\n",
      "\n",
      "Warning message:\n",
      "\"package 'RcmdrPlugin.IPSUR' was built under R version 3.6.3\"Registered S3 methods overwritten by 'ggplot2':\n",
      "  method         from \n",
      "  [.quosures     rlang\n",
      "  c.quosures     rlang\n",
      "  print.quosures rlang\n",
      "Registered S3 methods overwritten by 'lme4':\n",
      "  method                          from\n",
      "  cooks.distance.influence.merMod car \n",
      "  influence.merMod                car \n",
      "  dfbeta.influence.merMod         car \n",
      "  dfbetas.influence.merMod        car \n"
     ]
    }
   ],
   "source": [
    "library(foreign)\n",
    "library(diagram)\n",
    "library(prob)\n",
    "library(RcmdrPlugin.IPSUR)"
   ]
  },
  {
   "cell_type": "markdown",
   "metadata": {},
   "source": [
    "#    Chapter 4 : Probability\n",
    "\n",
    "IPSUR: Introduction to Probability and Statistics Using R\n",
    "These are the R commands supporting in IPSUR library and the code presented in the examples of chapter 4.\n",
    "\n",
    "**You will use these commands to answer the exercises in this learning quizz**"
   ]
  },
  {
   "cell_type": "code",
   "execution_count": 7,
   "metadata": {
    "scrolled": true
   },
   "outputs": [
    {
     "ename": "ERROR",
     "evalue": "Error in postscript(file = \"fig/prob-diagram.ps\"): cannot open file 'fig/prob-diagram.ps'\n",
     "output_type": "error",
     "traceback": [
      "Error in postscript(file = \"fig/prob-diagram.ps\"): cannot open file 'fig/prob-diagram.ps'\nTraceback:\n",
      "1. postscript(file = \"fig/prob-diagram.ps\")"
     ]
    }
   ],
   "source": [
    "# This chapter's package dependencies\n",
    "library(diagram)\n",
    "library(prob)\n",
    "library(RcmdrPlugin.IPSUR)\n",
    "\n",
    "postscript(file=\"fig/prob-diagram.ps\")\n",
    "require(diagram)\n",
    "par(mex = 0.2, cex = 0.5)\n",
    "openplotmat(frame.plot=TRUE)\n",
    "straightarrow(from = c(0.46,0.74), to = c(0.53,0.71), arr.pos = 1)\n",
    "straightarrow(from = c(0.3,0.65), to = c(0.3,0.51), arr.pos = 1)\n",
    "textellipse(mid = c(0.74,0.55), box.col = grey(0.95), \n",
    "  radx = 0.24, rady = 0.22, \n",
    "  lab = c(expression(bold(underline(DETERMINISTIC))), \n",
    "          expression(2*H[2]+O[2] %->% H[2]*O), \"3 + 4 = 7\"), cex = 2 )\n",
    "textrect(mid = c(0.3, 0.75), radx = 0.15, rady = 0.1, \n",
    "  lab = c(expression(bold(Experiments))), cex = 2 )\n",
    "textellipse(mid = c(0.29,0.25), box.col = grey(0.95), \n",
    "  radx = 0.27, rady = 0.22, lab = c(expression(bold(underline(RANDOM))), \n",
    "  \"toss coin, roll die\", \"count ants on sidewalk\", \"measure rainfall\" ), \n",
    "  cex = 2 )\n",
    "dev.off()\n",
    "\n",
    "S <- data.frame(lands = c(\"down\",\"up\",\"side\"))\n",
    "S\n",
    "\n",
    "tosscoin(1)\n",
    "\n",
    "tosscoin(3)\n",
    "\n",
    "rolldie(1)\n",
    "\n",
    "head(cards())\n",
    "\n",
    "urnsamples(1:3, size = 2, replace = TRUE, ordered = TRUE)\n",
    "\n",
    "urnsamples(1:3, size = 2, replace = FALSE, ordered = TRUE)\n",
    "\n",
    "urnsamples(1:3, size = 2, replace = FALSE, ordered = FALSE)\n",
    "\n",
    "urnsamples(1:3, size = 2, replace = TRUE, ordered = FALSE)\n",
    "\n",
    "S <- tosscoin(2, makespace = TRUE) \n",
    "S[1:3, ]\n",
    "\n",
    "S[c(2,4), ]\n",
    "\n",
    "S <- cards()\n",
    "\n",
    "subset(S, suit == \"Heart\")\n",
    "\n",
    "subset(S, rank %in% 7:9)\n",
    "\n",
    "subset(rolldie(3), X1+X2+X3 > 16)\n",
    "\n",
    "x <- 1:10 \n",
    "y <- 8:12 \n",
    "y %in% x\n",
    "\n",
    "isin(x,y)\n",
    "\n",
    "x <- 1:10 \n",
    "y <- c(3,3,7)\n",
    "\n",
    "all(y %in% x)\n",
    "isin(x,y)\n",
    "\n",
    "isin(x, c(3,4,5), ordered = TRUE) \n",
    "isin(x, c(3,5,4), ordered = TRUE)\n",
    "\n",
    "S <- rolldie(4) \n",
    "subset(S, isin(S, c(2,2,6), ordered = TRUE))\n",
    "\n",
    "S <- cards() \n",
    "A <- subset(S, suit == \"Heart\") \n",
    "B <- subset(S, rank %in% 7:9)\n",
    "\n",
    "union(A,B)\n",
    "\n",
    "intersect(A,B)\n",
    "\n",
    "setdiff(A,B)\n",
    "\n",
    "setdiff(B,A)\n",
    "\n",
    "outcomes <- rolldie(1) \n",
    "p <- rep(1/6, times = 6) \n",
    "probspace(outcomes, probs = p)\n",
    "\n",
    "probspace(1:6, probs = p)\n",
    "\n",
    "probspace(1:6)\n",
    "\n",
    "rolldie(1, makespace = TRUE)\n",
    "\n",
    "probspace(tosscoin(1), probs = c(0.70, 0.30))\n",
    "\n",
    "S <- cards(makespace = TRUE) \n",
    "A <- subset(S, suit == \"Heart\") \n",
    "B <- subset(S, rank %in% 7:9)\n",
    "\n",
    "Prob(A)\n",
    "\n",
    "Prob(S, suit == \"Heart\")\n",
    "\n",
    "nsamp(n=3, k=2, replace = TRUE, ordered = TRUE) \n",
    "nsamp(n=3, k=2, replace = FALSE, ordered = TRUE) \n",
    "nsamp(n=3, k=2, replace = FALSE, ordered = FALSE) \n",
    "nsamp(n=3, k=2, replace = TRUE, ordered = FALSE)\n",
    "\n",
    "n <- c(11,7,31) \n",
    "k <- c(3,4,3) \n",
    "r <- c(FALSE,FALSE,TRUE)\n",
    "\n",
    "x <- nsamp(n, k, rep = r, ord = TRUE)\n",
    "\n",
    "prod(x)\n",
    "\n",
    "(11*10*9)*(7*6*5*4)*31^3\n",
    "\n",
    "prod(9:11)*prod(4:7)*31^3\n",
    "\n",
    "prod(factorial(c(11,7))/factorial(c(8,3)))*31^3\n",
    "\n",
    "postscript(file=\"fig/prob-birthday.ps\")\n",
    "g <- Vectorize(pbirthday.ipsur)\n",
    "plot(1:50, g(1:50), xlab = \"Number of people in room\", ylab = \"Prob(at least one match)\")\n",
    "remove(g)\n",
    "dev.off()\n",
    "\n",
    "library(RcmdrPlugin.IPSUR)\n",
    "g <- Vectorize(pbirthday.ipsur)\n",
    "plot(1:50, g(1:50), xlab = \"Number of people in room\", \n",
    "  ylab = \"Prob(at least one match)\" )\n",
    "abline(h = 0.5)\n",
    "abline(v = 23, lty = 2)\n",
    "remove(g)\n",
    "\n",
    "postscript(file=\"fig/prob-twodiceAB.ps\")\n",
    "A <- rolldie(2)\n",
    "B <- subset(A, X1==X2)\n",
    "C <- subset(A, X1+X2 > 7)\n",
    "B$lab <- rep(\"X\", dim(B)[1])\n",
    "C$lab <- rep(\"O\", dim(C)[1])\n",
    "p <- ggplot(rbind(B, C), aes(x=X1, y=X2, label=lab))\n",
    "p + geom_text(size = 15) + xlab(\"First roll\") + ylab(\"Second roll\")\n",
    "dev.off()\n",
    "\n",
    "S <- rolldie(2, makespace = TRUE)  # assumes ELM\n",
    "head(S)                            #  first few rows\n",
    "\n",
    "A <- subset(S, X1 == X2)\n",
    "B <- subset(S, X1 + X2 >= 8)\n",
    "\n",
    "Prob(A, given = B)\n",
    "Prob(B, given = A)\n",
    "\n",
    "Prob(S, X1==X2, given = (X1 + X2 >= 8) )\n",
    "Prob(S, X1+X2 >= 8, given = (X1==X2) )\n",
    "\n",
    "L <- cards()\n",
    "M <- urnsamples(L, size = 2)\n",
    "N <- probspace(M)\n",
    "N[[1]][[1]];  N$probs[1]\n",
    "\n",
    "Prob(N, all(rank == \"A\"))\n",
    "\n",
    "L <- rep(c(\"red\",\"green\"), times = c(7,3))\n",
    "M <- urnsamples(L, size = 3, replace = FALSE, ordered = TRUE)\n",
    "N <- probspace(M)\n",
    "\n",
    "Prob(N, isrep(N, \"red\", 3))\n",
    "\n",
    "Prob(N, isrep(N, \"red\", 2))\n",
    "\n",
    "Prob(N, isin(N, c(\"red\",\"green\",\"red\"), ordered = TRUE))\n",
    "\n",
    "Prob(N, isin(N, c(\"red\",\"green\",\"red\")))\n",
    "\n",
    "library(RcmdrPlugin.IPSUR)\n",
    "data(RcmdrTestDrive)  \n",
    ".Table <- xtabs( ~ smoking + gender, data = RcmdrTestDrive)\n",
    "addmargins(.Table) # Table with marginal distributions\n",
    "\n",
    "S <- tosscoin(10, makespace = TRUE)\n",
    "A <- subset(S, isrep(S, vals = \"T\", nrep = 10))\n",
    "1 - Prob(A)\n",
    "\n",
    "iidspace(c(\"H\",\"T\"), ntrials = 3, probs = c(0.7, 0.3))\n",
    "\n",
    "prior <- c(0.6, 0.3, 0.1)\n",
    "like <- c(0.003, 0.007, 0.010)\n",
    "post <- prior * like\n",
    "post / sum(post)\n",
    "\n",
    "newprior <- post\n",
    "post <- newprior * like^7\n",
    "post / sum(post)\n",
    "\n",
    "fastpost <- prior * like^8\n",
    "fastpost / sum(fastpost)\n",
    "\n",
    "S <- rolldie(3, nsides = 4, makespace = TRUE) \n",
    "S <- addrv(S, U = X1-X2+X3)\n",
    "\n",
    "head(S)\n",
    "\n",
    "Prob(S, U > 6)\n",
    "\n",
    "S <- addrv(S, FUN = max, invars = c(\"X1\",\"X2\",\"X3\"), name = \"V\") \n",
    "S <- addrv(S, FUN = sum, invars = c(\"X1\",\"X2\",\"X3\"), name = \"W\") \n",
    "head(S)\n",
    "\n",
    "marginal(S, vars = \"V\")\n",
    "\n",
    "marginal(S, vars = c(\"V\", \"W\"))"
   ]
  },
  {
   "cell_type": "markdown",
   "metadata": {},
   "source": [
    "\\begin{example}\n",
    "Toss a fair coin once and report if it lands head or tails.\n",
    "In this case what is the _experiment_, the _sample space_, and probability function.\n",
    "\\end{example}\n"
   ]
  },
  {
   "cell_type": "code",
   "execution_count": 71,
   "metadata": {},
   "outputs": [
    {
     "data": {
      "text/html": [
       "<table>\n",
       "<thead><tr><th scope=col>Possible_Outcomes</th><th scope=col>probs</th></tr></thead>\n",
       "<tbody>\n",
       "\t<tr><td>H  </td><td>0.5</td></tr>\n",
       "\t<tr><td>T  </td><td>0.5</td></tr>\n",
       "</tbody>\n",
       "</table>\n"
      ],
      "text/latex": [
       "\\begin{tabular}{r|ll}\n",
       " Possible\\_Outcomes & probs\\\\\n",
       "\\hline\n",
       "\t H   & 0.5\\\\\n",
       "\t T   & 0.5\\\\\n",
       "\\end{tabular}\n"
      ],
      "text/markdown": [
       "\n",
       "| Possible_Outcomes | probs |\n",
       "|---|---|\n",
       "| H   | 0.5 |\n",
       "| T   | 0.5 |\n",
       "\n"
      ],
      "text/plain": [
       "  Possible_Outcomes probs\n",
       "1 H                 0.5  \n",
       "2 T                 0.5  "
      ]
     },
     "metadata": {},
     "output_type": "display_data"
    }
   ],
   "source": [
    "outcomes <- tosscoin(1)      \n",
    "p <- rep(1/2, times =2)\n",
    "colnames(outcomes) = c(\"Possible_Outcomes\")\n",
    "probspace(outcomes, robs = p)"
   ]
  },
  {
   "cell_type": "markdown",
   "metadata": {},
   "source": [
    "**Answer**: \n",
    "The experiment is tossing a coin in the air and reporting if it lands heads or tails, after that we calculate the probability of each outcome \n",
    "Possible_Outcomes describes the sample space Ω ={H,T}  that means all the outcomes that can occur of this experiment\n",
    "The probability function is $P(H)= P(T) = 0.5 $ since the coin is fair"
   ]
  },
  {
   "cell_type": "markdown",
   "metadata": {},
   "source": [
    "\\begin{exercise}\n",
    "Experiment: toss a fair 3 times and list the outcomes\n",
    "Define the sample space\n",
    "Create a probability function. Fill the code in the following cell to produce the indicating output.\n",
    "\\end{exercise}\n"
   ]
  },
  {
   "cell_type": "markdown",
   "metadata": {},
   "source": [
    "**ANSWER:** The sample space is all the possible outcomes of this experiment so if we describe Heads= H and Tails =T the samples space Ω ={(H,H,H),(H,H,T),(H,T,H),(T,H,H),(T,T,H),(T,H,T),(H,T,T),(T,T,T)} (every combination of toss1,toss2,toss3)\n",
    "the probability of each outcome is 1/8 so 0.125"
   ]
  },
  {
   "cell_type": "code",
   "execution_count": 67,
   "metadata": {
    "scrolled": true
   },
   "outputs": [
    {
     "data": {
      "text/html": [
       "<table>\n",
       "<thead><tr><th scope=col>toss1</th><th scope=col>toss2</th><th scope=col>toss3</th><th scope=col>probs</th></tr></thead>\n",
       "<tbody>\n",
       "\t<tr><td>H    </td><td>H    </td><td>H    </td><td>0.125</td></tr>\n",
       "\t<tr><td>T    </td><td>H    </td><td>H    </td><td>0.125</td></tr>\n",
       "\t<tr><td>H    </td><td>T    </td><td>H    </td><td>0.125</td></tr>\n",
       "\t<tr><td>T    </td><td>T    </td><td>H    </td><td>0.125</td></tr>\n",
       "\t<tr><td>H    </td><td>H    </td><td>T    </td><td>0.125</td></tr>\n",
       "\t<tr><td>T    </td><td>H    </td><td>T    </td><td>0.125</td></tr>\n",
       "\t<tr><td>H    </td><td>T    </td><td>T    </td><td>0.125</td></tr>\n",
       "\t<tr><td>T    </td><td>T    </td><td>T    </td><td>0.125</td></tr>\n",
       "</tbody>\n",
       "</table>\n"
      ],
      "text/latex": [
       "\\begin{tabular}{r|llll}\n",
       " toss1 & toss2 & toss3 & probs\\\\\n",
       "\\hline\n",
       "\t H     & H     & H     & 0.125\\\\\n",
       "\t T     & H     & H     & 0.125\\\\\n",
       "\t H     & T     & H     & 0.125\\\\\n",
       "\t T     & T     & H     & 0.125\\\\\n",
       "\t H     & H     & T     & 0.125\\\\\n",
       "\t T     & H     & T     & 0.125\\\\\n",
       "\t H     & T     & T     & 0.125\\\\\n",
       "\t T     & T     & T     & 0.125\\\\\n",
       "\\end{tabular}\n"
      ],
      "text/markdown": [
       "\n",
       "| toss1 | toss2 | toss3 | probs |\n",
       "|---|---|---|---|\n",
       "| H     | H     | H     | 0.125 |\n",
       "| T     | H     | H     | 0.125 |\n",
       "| H     | T     | H     | 0.125 |\n",
       "| T     | T     | H     | 0.125 |\n",
       "| H     | H     | T     | 0.125 |\n",
       "| T     | H     | T     | 0.125 |\n",
       "| H     | T     | T     | 0.125 |\n",
       "| T     | T     | T     | 0.125 |\n",
       "\n"
      ],
      "text/plain": [
       "  toss1 toss2 toss3 probs\n",
       "1 H     H     H     0.125\n",
       "2 T     H     H     0.125\n",
       "3 H     T     H     0.125\n",
       "4 T     T     H     0.125\n",
       "5 H     H     T     0.125\n",
       "6 T     H     T     0.125\n",
       "7 H     T     T     0.125\n",
       "8 T     T     T     0.125"
      ]
     },
     "metadata": {},
     "output_type": "display_data"
    }
   ],
   "source": [
    "outcomes <-tosscoin(3)\n",
    "p <- rep(1/8, times = 8)\n",
    "probspace(outcomes, robs = p)\n"
   ]
  },
  {
   "cell_type": "markdown",
   "metadata": {},
   "source": [
    "### Taxis (An infinite discrete sample space) \n",
    "\n",
    "**Experiment**: count the number of taxis that pass 77 Dimitriados Ave during an 18.05 class. \n",
    "\n",
    "**Sample space**: $\\Omega=\\{0,1,2,3,4, \\ldots\\}$\n",
    "\n",
    "**Probability function**\n",
    "This is often modeled with the following probability function known as the Poisson distribution:\n",
    "$$\n",
    "P(k)=\\mathrm{e}^{-\\lambda} \\frac{\\lambda^{k}}{k !}\n",
    "$$\n",
    "where $\\lambda$ is the average number of taxis. We can put this in a table:\n",
    "\\begin{array}{l|cccccc}\n",
    "\\text { Outcome } & 0 & 1 & 2 & 3 & \\ldots & \\mathrm{k} & \\cdots \\\\\n",
    "\\hline \\text { Probability } & \\mathrm{e}^{-\\lambda} & \\mathrm{e}^{-\\lambda} \\lambda & \\mathrm{e}^{-\\lambda} \\lambda^{2} / 2 & \\mathrm{e}^{-\\lambda} \\lambda^{3} / 3 ! & \\ldots & \\mathrm{e}^{-\\lambda} \\lambda^{k} / \\mathrm{k} ! & \\ldots\n",
    "\\end{array}\n",
    "\n",
    "\\begin{exercise}\n",
    "Accepting that this is a valid probability function, what is $\\sum_{k=0}^{\\infty} \\mathrm{e}^{-\\lambda} \\frac{\\lambda^{k}}{k !}$ ?\n",
    "\n",
    "\\end{exercise}\n"
   ]
  },
  {
   "cell_type": "markdown",
   "metadata": {},
   "source": [
    "**Answer:**$\\sum_{k=0}^{\\infty} \\mathrm{e}^{-\\lambda} \\frac{\\lambda^{k}}{k !}$ ? describes the infinite sum of a poisson distribution . Then the sum should be the entire Sample Space and its probility would be near 1"
   ]
  },
  {
   "cell_type": "markdown",
   "metadata": {},
   "source": [
    "### Two dice (Choice of sample space) \n",
    "\n",
    "Suppose you roll one die. Then the sample space and probability function are\n",
    "\n",
    "\\begin{array}{l|cccccc}\n",
    "\\text { Outcome } & 1 & 2 & 3 & 4 & 5 & 6 \\\\\n",
    "\\hline \\text { Probability: } & 1 / 6 & 1 / 6 & 1 / 6 & 1 / 6 & 1 / 6 & 1 / 6\n",
    "\\end{array}\n",
    "\n",
    "Now suppose you roll two dice. What should be the sample space? Here are two options.\n",
    "1. Record the pair of numbers showing on the dice (first die, second die).\n",
    "2. Record the sum of the numbers on the dice. In this case there are 11 outcomes $\\{2,3,4,5,6,7,8,9,10,11,12\\} .$ These outcomes are not all equally likely.\n",
    "\n",
    "\\begin{exercise}\n",
    "Create probability functions for the two options above\n",
    "\\end{exercise}\n",
    "\n",
    "\n",
    "\n"
   ]
  },
  {
   "cell_type": "code",
   "execution_count": 43,
   "metadata": {},
   "outputs": [
    {
     "data": {
      "text/html": [
       "<ol class=list-inline>\n",
       "\t<li>2</li>\n",
       "\t<li>3</li>\n",
       "\t<li>4</li>\n",
       "\t<li>5</li>\n",
       "\t<li>6</li>\n",
       "\t<li>7</li>\n",
       "\t<li>3</li>\n",
       "\t<li>4</li>\n",
       "\t<li>5</li>\n",
       "\t<li>6</li>\n",
       "\t<li>7</li>\n",
       "\t<li>8</li>\n",
       "\t<li>4</li>\n",
       "\t<li>5</li>\n",
       "\t<li>6</li>\n",
       "\t<li>7</li>\n",
       "\t<li>8</li>\n",
       "\t<li>9</li>\n",
       "\t<li>5</li>\n",
       "\t<li>6</li>\n",
       "\t<li>7</li>\n",
       "\t<li>8</li>\n",
       "\t<li>9</li>\n",
       "\t<li>10</li>\n",
       "\t<li>6</li>\n",
       "\t<li>7</li>\n",
       "\t<li>8</li>\n",
       "\t<li>9</li>\n",
       "\t<li>10</li>\n",
       "\t<li>11</li>\n",
       "\t<li>7</li>\n",
       "\t<li>8</li>\n",
       "\t<li>9</li>\n",
       "\t<li>10</li>\n",
       "\t<li>11</li>\n",
       "\t<li>12</li>\n",
       "</ol>\n"
      ],
      "text/latex": [
       "\\begin{enumerate*}\n",
       "\\item 2\n",
       "\\item 3\n",
       "\\item 4\n",
       "\\item 5\n",
       "\\item 6\n",
       "\\item 7\n",
       "\\item 3\n",
       "\\item 4\n",
       "\\item 5\n",
       "\\item 6\n",
       "\\item 7\n",
       "\\item 8\n",
       "\\item 4\n",
       "\\item 5\n",
       "\\item 6\n",
       "\\item 7\n",
       "\\item 8\n",
       "\\item 9\n",
       "\\item 5\n",
       "\\item 6\n",
       "\\item 7\n",
       "\\item 8\n",
       "\\item 9\n",
       "\\item 10\n",
       "\\item 6\n",
       "\\item 7\n",
       "\\item 8\n",
       "\\item 9\n",
       "\\item 10\n",
       "\\item 11\n",
       "\\item 7\n",
       "\\item 8\n",
       "\\item 9\n",
       "\\item 10\n",
       "\\item 11\n",
       "\\item 12\n",
       "\\end{enumerate*}\n"
      ],
      "text/markdown": [
       "1. 2\n",
       "2. 3\n",
       "3. 4\n",
       "4. 5\n",
       "5. 6\n",
       "6. 7\n",
       "7. 3\n",
       "8. 4\n",
       "9. 5\n",
       "10. 6\n",
       "11. 7\n",
       "12. 8\n",
       "13. 4\n",
       "14. 5\n",
       "15. 6\n",
       "16. 7\n",
       "17. 8\n",
       "18. 9\n",
       "19. 5\n",
       "20. 6\n",
       "21. 7\n",
       "22. 8\n",
       "23. 9\n",
       "24. 10\n",
       "25. 6\n",
       "26. 7\n",
       "27. 8\n",
       "28. 9\n",
       "29. 10\n",
       "30. 11\n",
       "31. 7\n",
       "32. 8\n",
       "33. 9\n",
       "34. 10\n",
       "35. 11\n",
       "36. 12\n",
       "\n",
       "\n"
      ],
      "text/plain": [
       " [1]  2  3  4  5  6  7  3  4  5  6  7  8  4  5  6  7  8  9  5  6  7  8  9 10  6\n",
       "[26]  7  8  9 10 11  7  8  9 10 11 12"
      ]
     },
     "metadata": {},
     "output_type": "display_data"
    },
    {
     "data": {
      "text/html": [
       "<table>\n",
       "<thead><tr><th scope=col>X1</th><th scope=col>X2</th></tr></thead>\n",
       "<tbody>\n",
       "\t<tr><td>1</td><td>1</td></tr>\n",
       "\t<tr><td>2</td><td>1</td></tr>\n",
       "\t<tr><td>3</td><td>1</td></tr>\n",
       "\t<tr><td>4</td><td>1</td></tr>\n",
       "\t<tr><td>5</td><td>1</td></tr>\n",
       "\t<tr><td>6</td><td>1</td></tr>\n",
       "\t<tr><td>1</td><td>2</td></tr>\n",
       "\t<tr><td>2</td><td>2</td></tr>\n",
       "\t<tr><td>3</td><td>2</td></tr>\n",
       "\t<tr><td>4</td><td>2</td></tr>\n",
       "\t<tr><td>5</td><td>2</td></tr>\n",
       "\t<tr><td>6</td><td>2</td></tr>\n",
       "\t<tr><td>1</td><td>3</td></tr>\n",
       "\t<tr><td>2</td><td>3</td></tr>\n",
       "\t<tr><td>3</td><td>3</td></tr>\n",
       "\t<tr><td>4</td><td>3</td></tr>\n",
       "\t<tr><td>5</td><td>3</td></tr>\n",
       "\t<tr><td>6</td><td>3</td></tr>\n",
       "\t<tr><td>1</td><td>4</td></tr>\n",
       "\t<tr><td>2</td><td>4</td></tr>\n",
       "\t<tr><td>3</td><td>4</td></tr>\n",
       "\t<tr><td>4</td><td>4</td></tr>\n",
       "\t<tr><td>5</td><td>4</td></tr>\n",
       "\t<tr><td>6</td><td>4</td></tr>\n",
       "\t<tr><td>1</td><td>5</td></tr>\n",
       "\t<tr><td>2</td><td>5</td></tr>\n",
       "\t<tr><td>3</td><td>5</td></tr>\n",
       "\t<tr><td>4</td><td>5</td></tr>\n",
       "\t<tr><td>5</td><td>5</td></tr>\n",
       "\t<tr><td>6</td><td>5</td></tr>\n",
       "\t<tr><td>1</td><td>6</td></tr>\n",
       "\t<tr><td>2</td><td>6</td></tr>\n",
       "\t<tr><td>3</td><td>6</td></tr>\n",
       "\t<tr><td>4</td><td>6</td></tr>\n",
       "\t<tr><td>5</td><td>6</td></tr>\n",
       "\t<tr><td>6</td><td>6</td></tr>\n",
       "</tbody>\n",
       "</table>\n"
      ],
      "text/latex": [
       "\\begin{tabular}{r|ll}\n",
       " X1 & X2\\\\\n",
       "\\hline\n",
       "\t 1 & 1\\\\\n",
       "\t 2 & 1\\\\\n",
       "\t 3 & 1\\\\\n",
       "\t 4 & 1\\\\\n",
       "\t 5 & 1\\\\\n",
       "\t 6 & 1\\\\\n",
       "\t 1 & 2\\\\\n",
       "\t 2 & 2\\\\\n",
       "\t 3 & 2\\\\\n",
       "\t 4 & 2\\\\\n",
       "\t 5 & 2\\\\\n",
       "\t 6 & 2\\\\\n",
       "\t 1 & 3\\\\\n",
       "\t 2 & 3\\\\\n",
       "\t 3 & 3\\\\\n",
       "\t 4 & 3\\\\\n",
       "\t 5 & 3\\\\\n",
       "\t 6 & 3\\\\\n",
       "\t 1 & 4\\\\\n",
       "\t 2 & 4\\\\\n",
       "\t 3 & 4\\\\\n",
       "\t 4 & 4\\\\\n",
       "\t 5 & 4\\\\\n",
       "\t 6 & 4\\\\\n",
       "\t 1 & 5\\\\\n",
       "\t 2 & 5\\\\\n",
       "\t 3 & 5\\\\\n",
       "\t 4 & 5\\\\\n",
       "\t 5 & 5\\\\\n",
       "\t 6 & 5\\\\\n",
       "\t 1 & 6\\\\\n",
       "\t 2 & 6\\\\\n",
       "\t 3 & 6\\\\\n",
       "\t 4 & 6\\\\\n",
       "\t 5 & 6\\\\\n",
       "\t 6 & 6\\\\\n",
       "\\end{tabular}\n"
      ],
      "text/markdown": [
       "\n",
       "| X1 | X2 |\n",
       "|---|---|\n",
       "| 1 | 1 |\n",
       "| 2 | 1 |\n",
       "| 3 | 1 |\n",
       "| 4 | 1 |\n",
       "| 5 | 1 |\n",
       "| 6 | 1 |\n",
       "| 1 | 2 |\n",
       "| 2 | 2 |\n",
       "| 3 | 2 |\n",
       "| 4 | 2 |\n",
       "| 5 | 2 |\n",
       "| 6 | 2 |\n",
       "| 1 | 3 |\n",
       "| 2 | 3 |\n",
       "| 3 | 3 |\n",
       "| 4 | 3 |\n",
       "| 5 | 3 |\n",
       "| 6 | 3 |\n",
       "| 1 | 4 |\n",
       "| 2 | 4 |\n",
       "| 3 | 4 |\n",
       "| 4 | 4 |\n",
       "| 5 | 4 |\n",
       "| 6 | 4 |\n",
       "| 1 | 5 |\n",
       "| 2 | 5 |\n",
       "| 3 | 5 |\n",
       "| 4 | 5 |\n",
       "| 5 | 5 |\n",
       "| 6 | 5 |\n",
       "| 1 | 6 |\n",
       "| 2 | 6 |\n",
       "| 3 | 6 |\n",
       "| 4 | 6 |\n",
       "| 5 | 6 |\n",
       "| 6 | 6 |\n",
       "\n"
      ],
      "text/plain": [
       "   X1 X2\n",
       "1  1  1 \n",
       "2  2  1 \n",
       "3  3  1 \n",
       "4  4  1 \n",
       "5  5  1 \n",
       "6  6  1 \n",
       "7  1  2 \n",
       "8  2  2 \n",
       "9  3  2 \n",
       "10 4  2 \n",
       "11 5  2 \n",
       "12 6  2 \n",
       "13 1  3 \n",
       "14 2  3 \n",
       "15 3  3 \n",
       "16 4  3 \n",
       "17 5  3 \n",
       "18 6  3 \n",
       "19 1  4 \n",
       "20 2  4 \n",
       "21 3  4 \n",
       "22 4  4 \n",
       "23 5  4 \n",
       "24 6  4 \n",
       "25 1  5 \n",
       "26 2  5 \n",
       "27 3  5 \n",
       "28 4  5 \n",
       "29 5  5 \n",
       "30 6  5 \n",
       "31 1  6 \n",
       "32 2  6 \n",
       "33 3  6 \n",
       "34 4  6 \n",
       "35 5  6 \n",
       "36 6  6 "
      ]
     },
     "metadata": {},
     "output_type": "display_data"
    }
   ],
   "source": [
    "A<-rolldie(2)\n",
    "Answer1 <- subset(A)\n",
    "Answer2 <- subset(A,)\n",
    "colnames(outcomes) = c(\"Roll1\",\"Roll2\")\n",
    "outcomes2<-rolldie(2)\n",
    "rowSums(outcomes2)\n",
    "\n",
    "\n",
    "\n",
    "\n"
   ]
  },
  {
   "cell_type": "markdown",
   "metadata": {},
   "source": [
    "## The probability function\n",
    "So far we've been using a casual definition of the probability function. Let's give a more precise one.\n",
    "\n",
    "**Careful definition of the probability function** \n",
    "\n",
    "For a **discrete** sample space $S$ a probability function $P$ assigns to each outcome $\\omega$ a number $P(\\omega)$ called the probability of $\\omega$. $P$ must satisfy two rules:\n",
    "\n",
    "- Rule $1.0 \\leq P(\\omega) \\leq 1$ (probabilities are between 0 and 1).\n",
    "\n",
    "- Rule 2. The sum of the probabilities of all possible outcomes is 1 \n",
    "\n",
    "In symbols Rule 2 says: if $S=\\left\\{\\omega_{1}, \\omega_{2}, \\ldots, \\omega_{n}\\right\\}$ then $P\\left(\\omega_{1}\\right)+P\\left(\\omega_{2}\\right)+\\ldots+P\\left(\\omega_{n}\\right)=1 .$ Or,\n",
    "using summation notation: $\\sum_{j=1}^{n} P\\left(\\omega_{j}\\right)=1$.\n",
    "\n",
    "The probability of an event $E$ is the sum of the probabilities of all the outcomes in $E .$ That is,\n",
    "$$\n",
    "P(E)=\\sum_{\\omega \\in E} P(\\omega)\n",
    "$$"
   ]
  },
  {
   "cell_type": "markdown",
   "metadata": {},
   "source": [
    "### Flip until heads (A classic example)\n",
    "\n",
    "Suppose we have a coin with probability $p$ of heads and we have the following scenario.\n",
    "\n",
    "**Experiment**: Toss the coin until the first heads. Report the number of tosses. \n",
    "\n",
    "**Sample space**: $\\Omega=\\{1,2,3, \\ldots\\}$\n",
    "\n",
    "**Probability function** : $P(n)=(1-p)^{n-1} p$\n",
    "\n",
    "\\begin{exercise}\n",
    "Challenge 1: show the sum of all the probabilities equals 1 (hint: geometric series).\n",
    "Challenge 2: justify the formula for $P(n)$ .\n",
    "\n",
    "\\end{exercise}\n"
   ]
  },
  {
   "cell_type": "markdown",
   "metadata": {},
   "source": [
    "**Answer 1:** $\\sum_{n=1}^{\\infty} {(1-p)}^{n-1}{p} = p(1-p)^0 + p(1-p)^1 + \\ldots = p(1 + (1-p)^1 + \\ldots )$ this sum is geometric series with $a = 1$ and $r = 1 - p $  ($r < 1$ since $p < 1$) so we can replace with $p \\cdot \\frac{1}{1-(1-p)}= p \\cdot \\frac{1}{p} = 1 $ <br>\n",
    "**Answer 2:** Since the probabily of heads is $p$ and tails is $1 -p$  <br>the probability of getting heads on the first toss is $p$, <br> the second toss is $(1-p)\\cdot p$ since we landed one tails and  one heads <br>the third toss is $(1-p)^2\\cdot p$ since we got 2 tails and then a head <br> and on the $n$ toss is $(1-p)^{n-1}\\cdot p$ since we got n tails first and then a heads.<br>\n",
    "So  $P(n)=(1-p)^{n-1} p$ is the probability function for the $n$ toss"
   ]
  },
  {
   "cell_type": "markdown",
   "metadata": {},
   "source": [
    "\\begin{remark}\n",
    "\n",
    "Suppose you have a coin which, when flipped, yields a head with probability $p$ and a tail with probability $q=1-p$ (if the coin is fair, then $p=q=1 / 2$ ). How many times do you need to flip this coin on average until you get a head?\n",
    "\n",
    "To answer this question, consider the probability $P(n)$ of obtaining a head only on the $n$ -th coin flip. In other words, $P(n)$ is the probability of obtaining $n-1$ consecutive tails and then a head:\n",
    "$$\n",
    "P(n)=q^{n-1} p\n",
    "$$\n",
    "The average number of coin flips we need until we get a head is then:\n",
    "$$\n",
    "E_{p}[n]=\\sum_{n=1}^{\\infty} n P(n)=\\sum_{n=1}^{\\infty} n q^{n-1} p\n",
    "$$\n",
    "All we need to do now is to compute the infinite sum on the right-hand side of equation $(4) .$ To achieve that goal, consider the following sequence:\n",
    "$$\n",
    "e_{k}=\\sum_{n=1}^{k} n q^{n-1} p=p \\sum_{n=1}^{k} n q^{n-1}\n",
    "$$\n",
    "The sequence $e_{k}$ is such that $E_{p}[n]=\\lim _{k \\rightarrow \\infty} e_{k} \\cdot$ It is closely related to the geometric series. In fact, consider the sequence $g_{k}$ which is obtained by taking the first $k$ terms of the geometric series as its $k$ -th element (below $z$ is any real number of our choice):\n",
    "\n",
    "$$\n",
    "g_{k}=\\sum_{n=0}^{k} z^{n}=\\frac{1-z^{k+1}}{1-z}\n",
    "$$\n",
    "Taking the derivative of $g_{k}$ with respect to $z$ yields:\n",
    "$$\n",
    "\\frac{d g_{k}}{d z}=\\sum_{n=1}^{k} n z^{n-1}=-\\frac{(k+1) z^{k}}{1-z}+\\frac{1-z^{k+1}}{(1-z)^{2}}\n",
    "$$\n",
    "where the term with $n=0$ was omitted since it is identically zero. Comparing equations (3) and $(5),$ we see that:\n",
    "$$\n",
    "e_{k}=p \\sum_{n=1}^{k} n q^{n-1}=\\left.p \\frac{d g_{k}}{d z}\\right|_{z=q}\n",
    "$$\n",
    "In other words, $e_{k}$ is equal to $p$ times the derivative of $g_{k}$ with respect to $z$ computed at $z=q:$\n",
    "$$\n",
    "e_{k}=p\\left(-\\frac{(k+1) q^{k}}{p}+\\frac{1-q^{k+1}}{p^{2}}\\right)=-(k+1) q^{k}+\\frac{1-q^{k+1}}{p}\n",
    "$$\n",
    "If $p=0,$ we will never get a head and the problem is therefore of little interest. For $p>0, q<1$ and therefore $q^{k} \\rightarrow 0$ as $k \\rightarrow \\infty .$ Using this fact on equation $(7),$ we obtain:\n",
    "$$\n",
    "E_{p}[n]=\\lim _{k \\rightarrow \\infty} e_{k}=\\frac{1}{p}\n",
    "$$\n",
    "\n",
    "Interestingly, the answer for this problem is extremely simple: the average number of times we need to flip the coin until we get a head is just $1 / p .$ If $p=1$, every coin flip results in a head, so $E_{p=1}[n]=1 .$ As $p$ approaches $0,$ the coin becomes more and more biased towards tails, so the average number of times we need to flip it until we get a head increases and, not surprisingly, diverges as $p \\rightarrow 0 .$ since for a fair coin we have $p=1 / 2,$ then:\n",
    "$$\n",
    "E_{p=1 / 2}[n]=2\n",
    "$$\n",
    "so we need on average to flip the coin only twice to get a head.\n",
    "\\end{remark}"
   ]
  },
  {
   "cell_type": "markdown",
   "metadata": {},
   "source": [
    "\\begin{remark}\n",
    "\n",
    "**Stopping problems**. The previous toy example is an uncluttered version of a general class of problems called stopping rule problems. A stopping rule is a rule that tells you when to end a certain process. In the toy example above the process was ﬂipping a coin and we stopped after the ﬁrst heads. A more practical example is a rule for ending a series of medical treatments. Such a rule could depend on how well the treatments are working, how the patient is tolerating them and the probability that the treatments would continue to be eﬀective. One could ask about the probability of stopping within a certain number of treatments or the average number of treatments you should expect before stopping.\n",
    "\\end{remark}\n"
   ]
  },
  {
   "cell_type": "markdown",
   "metadata": {},
   "source": [
    "## Some rules of probability\n",
    "For events $A, L$ and $R$ contained in a sample space $\\Omega$.\n",
    "\n",
    "Rule $1 . P\\left(A^{c}\\right)=1-P(A)$\n",
    "\n",
    "Rule $2 .$ If $L$ and $R$ are disjoint then $P(L \\cup R)=P(L)+P(R)$.\n",
    "\n",
    "Rule $3 .$ If $L$ and $R$ are not disjoint, we have the inclusion-exclusion principle:\n",
    "$$\n",
    "P(L \\cup R)=P(L)+P(R)-P(L \\cap R)\n",
    "$$\n",
    "\n",
    "Rule $1: A$ and $A^{c}$ split $\\Omega$ into two non-overlapping regions. since the total probability $P(\\Omega)=1$ this rule says that the probabiity of $A$ and the probability of 'not $A$ ' are complementary, i.e. sum to $1 .$\n",
    "\n",
    "Rule $2: L$ and $R$ split $L \\cup R$ into two non-overlapping regions. So the probability of $L \\cup R$ is is split between $P(L)$ and $P(R)$\n",
    "\n",
    "Rule 3: In the sum $P(L)+P(R)$ the overlap $P(L \\cap R)$ gets counted twice. So $P(L)+$ $P(R)-P(L \\cap R)$ counts everything in the union exactly once.\n",
    "\n"
   ]
  },
  {
   "cell_type": "markdown",
   "metadata": {},
   "source": [
    "For the following examples suppose we have an experiment that produces a random integer between 1 and 20. The probabilities are not necessarily uniform, i.e., not necessarily the same for each outcome.\n",
    "\n",
    "\\begin{exercise}\n",
    "If the probability of an even number is .6 what is the probability of an odd number?\n",
    "\n",
    "\\end{exercise}\n",
    "\n",
    "\\begin{exercise}\n",
    "Consider the 2 events, $A: X$ is a multiple of 2 ; $B: X$ is odd and less than 10. Suppose $P(A)=.6$ and $P(B)=.25$\n",
    "\n",
    "(i) What is $A \\cap B ?$\n",
    "\n",
    "(ii) What is the probability of $A \\cup B ?$\n",
    "\\end{exercise}\n",
    "\n",
    "\\begin{exercise}\n",
    "Let $A, B$ and $C$ be the events $X$ is a multiple of 2,3 and 6 respectively. If $P(A)=.6, P(B)=.3$ and $P(C)=.2$ what is $P(A$ or $B) ?$ \n",
    "\\end{exercise}\n",
    "\n",
    "\n",
    "\n",
    "\n"
   ]
  },
  {
   "cell_type": "markdown",
   "metadata": {},
   "source": [
    "**Answer 1:** If we assume R is the event that the number is even  and L that the number is odd. We have P(R) = 0.6 ,But we know that a number between 1-20 has to be odd or even so Ω = L + R  and P(Ω) = P(L) + P(R)  so  1 = P(L) + 0.6 so P(L)= 0.4"
   ]
  },
  {
   "cell_type": "markdown",
   "metadata": {},
   "source": [
    "\\begin{exercise}\n",
    "\n",
    "**Birthdays: counting and simulation**. \n",
    "\n",
    "Ignoring leap days, the days of the year can be numbered 1 to $365 .$ Assume that birthdays are equally likely to fall on any day of the year. Consider a group of $n$ people, of which you are not a member. An element of the sample space $\\Omega$ will be a sequence of $n$ birthdays (one for each person).\n",
    "\n",
    "(a) Define the probability function $P$ for $\\Omega$\n",
    "\n",
    "(b) Consider the following events:\n",
    "\n",
    "    A: \"someone in the group shares your birthday\"\n",
    "\n",
    "    B: \"some two people in the group share a birthday\"\n",
    "\n",
    "    C: \"some three people in the group share a birthday\" \n",
    "\n",
    "Carefully describe the subset of $\\Omega$ that corresponds to each event.\n",
    "\n",
    "(c) Find an exact formula for $P(A)$. What is the smallest $n$ such that $P(A)>.5 ?$\n",
    "\n",
    "(d) Justify why $n$ is greater than $\\frac{365}{2}$ without doing any computation. \n",
    "\n",
    "(e) Use $\\mathrm{R}$ simulation to estimate the smallest $n$ for which $P(B)>.9 .$ For these simulations, let the number of trials be 10000.\n",
    "\n",
    "\\end{exercise}\n"
   ]
  },
  {
   "cell_type": "code",
   "execution_count": 62,
   "metadata": {},
   "outputs": [
    {
     "data": {
      "text/html": [
       "<ol class=list-inline>\n",
       "\t<li>1</li>\n",
       "\t<li>2</li>\n",
       "\t<li>3</li>\n",
       "</ol>\n"
      ],
      "text/latex": [
       "\\begin{enumerate*}\n",
       "\\item 1\n",
       "\\item 2\n",
       "\\item 3\n",
       "\\end{enumerate*}\n"
      ],
      "text/markdown": [
       "1. 1\n",
       "2. 2\n",
       "3. 3\n",
       "\n",
       "\n"
      ],
      "text/plain": [
       "[1] 1 2 3"
      ]
     },
     "metadata": {},
     "output_type": "display_data"
    },
    {
     "data": {
      "text/html": [
       "<ol class=list-inline>\n",
       "\t<li>0.00273972602739726</li>\n",
       "\t<li>0.00273972602739726</li>\n",
       "\t<li>0.00273972602739726</li>\n",
       "\t<li>0.00273972602739726</li>\n",
       "\t<li>0.00273972602739726</li>\n",
       "\t<li>0.00273972602739726</li>\n",
       "</ol>\n"
      ],
      "text/latex": [
       "\\begin{enumerate*}\n",
       "\\item 0.00273972602739726\n",
       "\\item 0.00273972602739726\n",
       "\\item 0.00273972602739726\n",
       "\\item 0.00273972602739726\n",
       "\\item 0.00273972602739726\n",
       "\\item 0.00273972602739726\n",
       "\\end{enumerate*}\n"
      ],
      "text/markdown": [
       "1. 0.00273972602739726\n",
       "2. 0.00273972602739726\n",
       "3. 0.00273972602739726\n",
       "4. 0.00273972602739726\n",
       "5. 0.00273972602739726\n",
       "6. 0.00273972602739726\n",
       "\n",
       "\n"
      ],
      "text/plain": [
       "[1] 0.002739726 0.002739726 0.002739726 0.002739726 0.002739726 0.002739726"
      ]
     },
     "metadata": {},
     "output_type": "display_data"
    }
   ],
   "source": [
    "P() = "
   ]
  }
 ],
 "metadata": {
  "@webio": {
   "lastCommId": null,
   "lastKernelId": null
  },
  "kernelspec": {
   "display_name": "R",
   "language": "R",
   "name": "ir"
  },
  "language_info": {
   "codemirror_mode": "r",
   "file_extension": ".r",
   "mimetype": "text/x-r-source",
   "name": "R",
   "pygments_lexer": "r",
   "version": "3.6.1"
  },
  "latex_envs": {
   "LaTeX_envs_menu_present": true,
   "autoclose": false,
   "autocomplete": true,
   "bibliofile": "biblio.bib",
   "cite_by": "apalike",
   "current_citInitial": 1,
   "eqLabelWithNumbers": true,
   "eqNumInitial": 1,
   "hotkeys": {
    "equation": "Ctrl-E",
    "itemize": "Ctrl-I"
   },
   "labels_anchors": false,
   "latex_user_defs": false,
   "report_style_numbering": false,
   "user_envs_cfg": false
  }
 },
 "nbformat": 4,
 "nbformat_minor": 4
}
